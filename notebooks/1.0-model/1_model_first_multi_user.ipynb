{
 "cells": [
  {
   "cell_type": "code",
   "execution_count": 1,
   "metadata": {},
   "outputs": [],
   "source": [
    "import numpy as np\n",
    "import pandas as pd\n",
    "from sklearn.feature_extraction.text import TfidfVectorizer\n",
    "from sklearn.linear_model import LogisticRegression, SGDClassifier\n",
    "from snorkel.labeling import LabelModel, MajorityLabelVoter, RandomVoter\n",
    "from functools import partial\n",
    "from modAL.batch import uncertainty_batch_sampling\n",
    "from modAL.models import ActiveLearner\n",
    "from scipy.sparse import csr_matrix\n",
    "from sklearn.preprocessing import LabelEncoder\n",
    "\n",
    "# Set our RNG for reproducibility.\n",
    "RANDOM_STATE_SEED = 123\n",
    "np.random.seed(RANDOM_STATE_SEED)"
   ]
  },
  {
   "cell_type": "code",
   "execution_count": 2,
   "metadata": {},
   "outputs": [],
   "source": [
    "def delete_rows_csr(mat, indices):\n",
    "    \"\"\"\n",
    "    Remove the rows denoted by ``indices`` form the CSR sparse matrix ``mat``.\n",
    "    \"\"\"\n",
    "    if not isinstance(mat, csr_matrix):\n",
    "        raise ValueError(\"works only for CSR format -- use .tocsr() first\")\n",
    "    indices = list(indices)\n",
    "    mask = np.ones(mat.shape[0], dtype=bool)\n",
    "    mask[indices] = False\n",
    "    return mat[mask]"
   ]
  },
  {
   "cell_type": "code",
   "execution_count": 3,
   "metadata": {},
   "outputs": [],
   "source": [
    "# df = pd.read_csv(\"../../data/interim/address_train_data.csv\", index_col='id')\n",
    "df = pd.read_csv(\"../../data/interim/address_without_country_info.csv\", index_col='id')\n",
    "\n",
    "label_encoder = LabelEncoder()\n",
    "df['label'] = label_encoder.fit_transform(df['label'])"
   ]
  },
  {
   "cell_type": "markdown",
   "metadata": {},
   "source": [
    "## Remove numbers from text"
   ]
  },
  {
   "cell_type": "code",
   "execution_count": 4,
   "metadata": {},
   "outputs": [],
   "source": [
    "df['clean_address'] = df['address'].replace('\\d+', '', regex=True)"
   ]
  },
  {
   "cell_type": "markdown",
   "metadata": {},
   "source": [
    "## Balance dataset by force"
   ]
  },
  {
   "cell_type": "code",
   "execution_count": 5,
   "metadata": {},
   "outputs": [
    {
     "data": {
      "text/plain": [
       "0    3000\n",
       "1    2000\n",
       "Name: label, dtype: int64"
      ]
     },
     "execution_count": 5,
     "metadata": {},
     "output_type": "execute_result"
    }
   ],
   "source": [
    "t = df[df.label == True]\n",
    "f = df[df.label == False]\n",
    "small_f = f.iloc[np.random.randint(0, len(f), len(t)+1000)]\n",
    "df_balanced = pd.concat([small_f, t])\n",
    "df_balanced['label'].value_counts()"
   ]
  },
  {
   "cell_type": "code",
   "execution_count": 6,
   "metadata": {},
   "outputs": [],
   "source": [
    "tfv = TfidfVectorizer(analyzer='char_wb', ngram_range=(3,3), use_idf=False)"
   ]
  },
  {
   "cell_type": "code",
   "execution_count": 7,
   "metadata": {},
   "outputs": [],
   "source": [
    "X_raw = tfv.fit_transform(df_balanced['clean_address']).toarray()\n",
    "y_raw = df_balanced['label'].values\n",
    "# X_raw.shape"
   ]
  },
  {
   "cell_type": "code",
   "execution_count": 8,
   "metadata": {},
   "outputs": [],
   "source": [
    "# Isolate our examples for our labeled dataset.\n",
    "BATCH_SIZE = 10\n",
    "INITIAL_BATCH_SIZE = 40\n",
    "\n",
    "n_labeled_examples = X_raw.shape[0]\n",
    "training_indices = np.random.choice(n_labeled_examples, size=INITIAL_BATCH_SIZE, replace=False)\n",
    "\n",
    "X_train = X_raw[training_indices]\n",
    "y_train = y_raw[training_indices]\n",
    "\n",
    "# Isolate the non-training examples we'll be querying.\n",
    "X_pool = np.delete(X_raw, training_indices, axis=0)\n",
    "# X_pool = delete_rows_csr(X_raw, training_indices)\n",
    "y_pool = np.delete(y_raw, training_indices, axis=0)"
   ]
  },
  {
   "cell_type": "code",
   "execution_count": 9,
   "metadata": {},
   "outputs": [],
   "source": [
    "def random_sampling(classifier, X_pool, n_instances):\n",
    "    n_samples = len(X_pool)\n",
    "    query_idx = np.random.choice(range(n_samples), n_instances)\n",
    "    return query_idx, X_pool[query_idx]"
   ]
  },
  {
   "cell_type": "code",
   "execution_count": 21,
   "metadata": {},
   "outputs": [],
   "source": [
    "# Specify our active learning model.\n",
    "rnd_learner = ActiveLearner(\n",
    "  estimator=SGDClassifier(loss='log', random_state=1),\n",
    "\n",
    "  X_training=X_train.copy(),\n",
    "  y_training=y_train.copy(),\n",
    "\n",
    "  query_strategy=partial(random_sampling, n_instances=BATCH_SIZE)\n",
    ")\n",
    "\n",
    "# Specify our active learning model.\n",
    "al_learner = ActiveLearner(\n",
    "  estimator=SGDClassifier(loss='log', random_state=1),\n",
    "\n",
    "  X_training=X_train.copy(),\n",
    "  y_training=y_train.copy(),\n",
    "\n",
    "  query_strategy=partial(uncertainty_batch_sampling, n_instances=BATCH_SIZE)\n",
    ")"
   ]
  },
  {
   "cell_type": "code",
   "execution_count": 11,
   "metadata": {},
   "outputs": [],
   "source": [
    "def random_labels(y, fraction_of_random_labels=0.10, cardinality=3):\n",
    "    mask = np.random.rand(*y.shape) < fraction_of_random_labels\n",
    "    r = np.random.randint(0, cardinality, size = y.shape)\n",
    "    y[mask] = r[mask]   \n",
    "    return y\n",
    "\n",
    "def fake_multi_user_labeling(y, n_labelers, only_zeroes_idx, fraction_of_random_labels=0.10, cardinality=None):\n",
    "    y = np.tile(y, (n_labelers, 1)).transpose()\n",
    "    y = random_labels(y, fraction_of_random_labels, cardinality)\n",
    "    if only_zeroes_idx is not None:\n",
    "        y[:,only_zeroes_idx] = 0\n",
    "    return(y)"
   ]
  },
  {
   "cell_type": "code",
   "execution_count": 12,
   "metadata": {},
   "outputs": [],
   "source": [
    "majority_voter = MajorityLabelVoter(cardinality=2)"
   ]
  },
  {
   "cell_type": "code",
   "execution_count": 15,
   "metadata": {},
   "outputs": [
    {
     "name": "stdout",
     "output_type": "stream",
     "text": [
      "Accuracy after query 0: 0.8192\n",
      "Accuracy after query 1: 0.8364\n",
      "Accuracy after query 2: 0.8755\n",
      "Accuracy after query 3: 0.8665\n",
      "Accuracy after query 4: 0.8671\n",
      "Accuracy after query 5: 0.9332\n",
      "Accuracy after query 6: 0.9359\n",
      "Accuracy after query 7: 0.9389\n",
      "Accuracy after query 8: 0.9408\n",
      "Accuracy after query 9: 0.9610\n",
      "Accuracy after query 10: 0.9665\n",
      "Accuracy after query 0: 0.8192\n",
      "Accuracy after query 1: 0.9038\n",
      "Accuracy after query 2: 0.9225\n",
      "Accuracy after query 3: 0.9410\n",
      "Accuracy after query 4: 0.9600\n",
      "Accuracy after query 5: 0.9676\n",
      "Accuracy after query 6: 0.9665\n",
      "Accuracy after query 7: 0.9728\n",
      "Accuracy after query 8: 0.9777\n",
      "Accuracy after query 9: 0.9706\n",
      "Accuracy after query 10: 0.9720\n"
     ]
    }
   ],
   "source": [
    "def run_labeler(learner, X_pool, y_pool, n_queries=10, use_snorkel=False):\n",
    "    \n",
    "    if use_snorkel:\n",
    "        label_model = LabelModel(cardinality=3, verbose=True)\n",
    "    \n",
    "    performance_history = [learner.score(X_raw, y_raw)]\n",
    "    print('Accuracy after query {n}: {acc:0.4f}'.format(n=0, acc=performance_history[0]))\n",
    "    \n",
    "    for index in range(n_queries):\n",
    "        query_index, query_instance = learner.query(X_pool)\n",
    "\n",
    "        # Teach our ActiveLearner model the record it has requested.\n",
    "        X, y = X_pool[query_index], y_pool[query_index]\n",
    "        y = fake_multi_user_labeling(y, n_labelers = 3, only_zeroes_idx = 0, cardinality=2)\n",
    "\n",
    "        label_model.fit(L_train=y, n_epochs=1000, lr=0.001, log_freq=100, seed=123)\n",
    "        \n",
    "        preds_queried = label_model.predict(L=y)\n",
    "\n",
    "        learner.teach(X=X, y=preds_queried) #, only_new=True)\n",
    "\n",
    "        # Remove the queried instance from the unlabeled pool.\n",
    "        X_pool = np.delete(X_pool, query_index, axis=0)\n",
    "        y_pool = np.delete(y_pool, query_index)\n",
    "\n",
    "        # Calculate and report our model's accuracy.\n",
    "        model_accuracy = learner.score(X_pool, y_pool)\n",
    "        print('Accuracy after query {n}: {acc:0.4f}'.format(n=index + 1, acc=model_accuracy))\n",
    "\n",
    "        # Save our model's performance for plotting.\n",
    "        performance_history.append(model_accuracy)\n",
    "    \n",
    "    return performance_history\n",
    "\n",
    "performance_hist = {\n",
    "    'rnd': run_labeler(rnd_learner, X_pool, y_pool, use_snorkel=True),\n",
    "    'al': run_labeler(al_learner, X_pool, y_pool, use_snorkel=True)\n",
    "}"
   ]
  },
  {
   "cell_type": "code",
   "execution_count": 18,
   "metadata": {},
   "outputs": [
    {
     "name": "stdout",
     "output_type": "stream",
     "text": [
      "0.8192\n",
      "0.8363636363636363\n",
      "0.8755060728744939\n",
      "0.8665314401622718\n",
      "0.8670731707317073\n",
      "0.9331975560081467\n",
      "0.9359183673469388\n",
      "0.9388548057259714\n",
      "0.9407786885245901\n",
      "0.9609856262833676\n",
      "0.9664609053497942\n"
     ]
    }
   ],
   "source": [
    "for perf in performance_hist[\"rnd\"]:\n",
    "    print(perf)"
   ]
  },
  {
   "cell_type": "code",
   "execution_count": 19,
   "metadata": {},
   "outputs": [
    {
     "name": "stdout",
     "output_type": "stream",
     "text": [
      "0.8192\n",
      "0.9038383838383839\n",
      "0.9224696356275304\n",
      "0.940973630831643\n",
      "0.9599593495934959\n",
      "0.9676171079429735\n",
      "0.966530612244898\n",
      "0.97280163599182\n",
      "0.9776639344262295\n",
      "0.9706365503080082\n",
      "0.9720164609053498\n"
     ]
    }
   ],
   "source": [
    "for perf in performance_hist[\"al\"]:\n",
    "    print(perf)"
   ]
  },
  {
   "cell_type": "code",
   "execution_count": 22,
   "metadata": {},
   "outputs": [
    {
     "name": "stdout",
     "output_type": "stream",
     "text": [
      "Accuracy after query 0: 0.8192\n",
      "Accuracy after query 1: 0.8558\n",
      "Accuracy after query 2: 0.8644\n",
      "Accuracy after query 3: 0.8886\n",
      "Accuracy after query 4: 0.8870\n",
      "Accuracy after query 5: 0.9004\n",
      "Accuracy after query 6: 0.9341\n",
      "Accuracy after query 7: 0.9460\n",
      "Accuracy after query 8: 0.9525\n",
      "Accuracy after query 9: 0.9470\n",
      "Accuracy after query 10: 0.9687\n",
      "Accuracy after query 0: 0.8192\n",
      "Accuracy after query 1: 0.9038\n",
      "Accuracy after query 2: 0.9225\n",
      "Accuracy after query 3: 0.9410\n",
      "Accuracy after query 4: 0.9600\n",
      "Accuracy after query 5: 0.9676\n",
      "Accuracy after query 6: 0.9665\n",
      "Accuracy after query 7: 0.9728\n",
      "Accuracy after query 8: 0.9777\n",
      "Accuracy after query 9: 0.9706\n",
      "Accuracy after query 10: 0.9720\n"
     ]
    }
   ],
   "source": [
    "def run_labeler(learner, X_pool, y_pool, n_queries=10, use_snorkel=False):\n",
    "    \n",
    "    if use_snorkel:\n",
    "        label_model = LabelModel(cardinality=3, verbose=True)\n",
    "    \n",
    "    performance_history = [learner.score(X_raw, y_raw)]\n",
    "    print('Accuracy after query {n}: {acc:0.4f}'.format(n=0, acc=performance_history[0]))\n",
    "    \n",
    "    for index in range(n_queries):\n",
    "        query_index, query_instance = learner.query(X_pool)\n",
    "\n",
    "        # Teach our ActiveLearner model the record it has requested.\n",
    "        X, y = X_pool[query_index], y_pool[query_index]\n",
    "        y = fake_multi_user_labeling(y, n_labelers = 3, only_zeroes_idx = 0, cardinality=2)\n",
    "\n",
    "        label_model.fit(L_train=y, n_epochs=1000, lr=0.001, log_freq=100, seed=123)\n",
    "        \n",
    "        preds_queried = label_model.predict(L=y)\n",
    "\n",
    "        learner.teach(X=X, y=preds_queried) #, only_new=True)\n",
    "\n",
    "        # Remove the queried instance from the unlabeled pool.\n",
    "        X_pool = np.delete(X_pool, query_index, axis=0)\n",
    "        y_pool = np.delete(y_pool, query_index)\n",
    "\n",
    "        # Calculate and report our model's accuracy.\n",
    "        model_accuracy = learner.score(X_pool, y_pool)\n",
    "        print('Accuracy after query {n}: {acc:0.4f}'.format(n=index + 1, acc=model_accuracy))\n",
    "\n",
    "        # Save our model's performance for plotting.\n",
    "        performance_history.append(model_accuracy)\n",
    "    \n",
    "    return performance_history\n",
    "\n",
    "performance_hist = {\n",
    "    'rnd': run_labeler(rnd_learner, X_pool, y_pool, use_snorkel=True),\n",
    "    'al': run_labeler(al_learner, X_pool, y_pool, use_snorkel=True)\n",
    "}"
   ]
  },
  {
   "cell_type": "code",
   "execution_count": 24,
   "metadata": {},
   "outputs": [
    {
     "data": {
      "image/png": "[encoded data removed]",
      "text/plain": [
       "<Figure size 1105x780 with 1 Axes>"
      ]
     },
     "metadata": {
      "needs_background": "light"
     },
     "output_type": "display_data"
    }
   ],
   "source": [
    "import matplotlib as mpl\n",
    "import matplotlib.pyplot as plt\n",
    "%matplotlib inline\n",
    "\n",
    "N_QUERIES = 10\n",
    "\n",
    "# Plot our performance over time.\n",
    "fig, ax = plt.subplots(figsize=(8.5, 6), dpi=130)\n",
    "\n",
    "ax.plot(performance_hist['rnd'], label='Random')\n",
    "ax.plot(performance_hist['al'], label='Active learning')\n",
    "\n",
    "plt.legend(loc='lower left')\n",
    "\n",
    "ax.scatter(range(len(performance_hist['rnd'])), performance_hist['rnd'], s=13)\n",
    "ax.scatter(range(len(performance_hist['al'])), performance_hist['al'], s=13)\n",
    "\n",
    "ax.xaxis.set_major_locator(mpl.ticker.MaxNLocator(nbins=N_QUERIES + 3, integer=True))\n",
    "ax.xaxis.grid(True)\n",
    "\n",
    "ax.yaxis.set_major_locator(mpl.ticker.MaxNLocator(nbins=10))\n",
    "ax.yaxis.set_major_formatter(mpl.ticker.PercentFormatter(xmax=1))\n",
    "ax.set_ylim(bottom=0, top=1)\n",
    "ax.yaxis.grid(True, linestyle='--', alpha=1/2)\n",
    "\n",
    "ax.set_title('Incremental classification accuracy')\n",
    "ax.set_xlabel('Query iteration')\n",
    "ax.set_ylabel('Classification Accuracy')\n",
    "\n",
    "plt.show()"
   ]
  },
  {
   "cell_type": "code",
   "execution_count": 23,
   "metadata": {},
   "outputs": [
    {
     "ename": "NameError",
     "evalue": "name 'performance_history' is not defined",
     "output_type": "error",
     "traceback": [
      "\u001b[0;31m---------------------------------------------------------------------------\u001b[0m",
      "\u001b[0;31mNameError\u001b[0m                                 Traceback (most recent call last)",
      "\u001b[0;32m<ipython-input-23-48d47b96b1a8>\u001b[0m in \u001b[0;36m<module>\u001b[0;34m()\u001b[0m\n\u001b[1;32m      6\u001b[0m \u001b[0mfig\u001b[0m\u001b[0;34m,\u001b[0m \u001b[0max\u001b[0m \u001b[0;34m=\u001b[0m \u001b[0mplt\u001b[0m\u001b[0;34m.\u001b[0m\u001b[0msubplots\u001b[0m\u001b[0;34m(\u001b[0m\u001b[0mfigsize\u001b[0m\u001b[0;34m=\u001b[0m\u001b[0;34m(\u001b[0m\u001b[0;36m8.5\u001b[0m\u001b[0;34m,\u001b[0m \u001b[0;36m6\u001b[0m\u001b[0;34m)\u001b[0m\u001b[0;34m,\u001b[0m \u001b[0mdpi\u001b[0m\u001b[0;34m=\u001b[0m\u001b[0;36m130\u001b[0m\u001b[0;34m)\u001b[0m\u001b[0;34m\u001b[0m\u001b[0;34m\u001b[0m\u001b[0m\n\u001b[1;32m      7\u001b[0m \u001b[0;34m\u001b[0m\u001b[0m\n\u001b[0;32m----> 8\u001b[0;31m \u001b[0max\u001b[0m\u001b[0;34m.\u001b[0m\u001b[0mplot\u001b[0m\u001b[0;34m(\u001b[0m\u001b[0mperformance_history\u001b[0m\u001b[0;34m)\u001b[0m\u001b[0;34m\u001b[0m\u001b[0;34m\u001b[0m\u001b[0m\n\u001b[0m\u001b[1;32m      9\u001b[0m \u001b[0max\u001b[0m\u001b[0;34m.\u001b[0m\u001b[0mscatter\u001b[0m\u001b[0;34m(\u001b[0m\u001b[0mrange\u001b[0m\u001b[0;34m(\u001b[0m\u001b[0mlen\u001b[0m\u001b[0;34m(\u001b[0m\u001b[0mperformance_history\u001b[0m\u001b[0;34m)\u001b[0m\u001b[0;34m)\u001b[0m\u001b[0;34m,\u001b[0m \u001b[0mperformance_history\u001b[0m\u001b[0;34m,\u001b[0m \u001b[0ms\u001b[0m\u001b[0;34m=\u001b[0m\u001b[0;36m13\u001b[0m\u001b[0;34m)\u001b[0m\u001b[0;34m\u001b[0m\u001b[0;34m\u001b[0m\u001b[0m\n\u001b[1;32m     10\u001b[0m \u001b[0;34m\u001b[0m\u001b[0m\n",
      "\u001b[0;31mNameError\u001b[0m: name 'performance_history' is not defined"
     ]
    },
    {
     "data": {
      "image/png": "[encoded data removed]",
      "text/plain": [
       "<Figure size 1105x780 with 1 Axes>"
      ]
     },
     "metadata": {
      "needs_background": "light"
     },
     "output_type": "display_data"
    }
   ],
   "source": [
    "import matplotlib as mpl\n",
    "import matplotlib.pyplot as plt\n",
    "%matplotlib inline\n",
    "\n",
    "# Plot our performance over time.\n",
    "fig, ax = plt.subplots(figsize=(8.5, 6), dpi=130)\n",
    "\n",
    "ax.plot(performance_history)\n",
    "ax.scatter(range(len(performance_history)), performance_history, s=13)\n",
    "\n",
    "ax.xaxis.set_major_locator(mpl.ticker.MaxNLocator(nbins=N_QUERIES + 3, integer=True))\n",
    "ax.xaxis.grid(True)\n",
    "\n",
    "ax.yaxis.set_major_locator(mpl.ticker.MaxNLocator(nbins=10))\n",
    "ax.yaxis.set_major_formatter(mpl.ticker.PercentFormatter(xmax=1))\n",
    "ax.set_ylim(bottom=0, top=1)\n",
    "ax.yaxis.grid(True, linestyle='--', alpha=1/2)\n",
    "\n",
    "ax.set_title('Incremental classification accuracy')\n",
    "ax.set_xlabel('Query iteration')\n",
    "ax.set_ylabel('Classification Accuracy')\n",
    "\n",
    "plt.show()"
   ]
  },
  {
   "cell_type": "code",
   "execution_count": null,
   "metadata": {},
   "outputs": [],
   "source": []
  }
 ],
 "metadata": {
  "kernelspec": {
   "display_name": "Python 3",
   "language": "python",
   "name": "python3"
  },
  "language_info": {
   "codemirror_mode": {
    "name": "ipython",
    "version": 3
   },
   "file_extension": ".py",
   "mimetype": "text/x-python",
   "name": "python",
   "nbconvert_exporter": "python",
   "pygments_lexer": "ipython3",
   "version": "3.6.7"
  }
 },
 "nbformat": 4,
 "nbformat_minor": 4
}
