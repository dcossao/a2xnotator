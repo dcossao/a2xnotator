{
 "cells": [
  {
   "cell_type": "markdown",
   "metadata": {},
   "source": [
    "## 1. Select random European addresses"
   ]
  },
  {
   "cell_type": "code",
   "execution_count": 4,
   "metadata": {},
   "outputs": [],
   "source": [
    "## do the following to create a file of address-files ...\n",
    "# wget https://data.openaddresses.io/openaddr-collected-europe.zip\n",
    "# unzip openaddr-collected-europe.zip\n",
    "# cd Europe/\n",
    "# ls Europe/*/*.csv Europe/*/*/*.csv | grep -v summary | tee address_files.list\n"
   ]
  },
  {
   "cell_type": "code",
   "execution_count": 33,
   "metadata": {},
   "outputs": [],
   "source": [
    "import glob\n",
    "import random\n",
    "import pandas as pd"
   ]
  },
  {
   "cell_type": "code",
   "execution_count": 34,
   "metadata": {},
   "outputs": [],
   "source": [
    "with open('address_files.list','r') as file:\n",
    "    files = file.readlines()"
   ]
  },
  {
   "cell_type": "code",
   "execution_count": 44,
   "metadata": {},
   "outputs": [
    {
     "name": "stdout",
     "output_type": "stream",
     "text": [
      "0 ./Europe/se/municipality_of_kalmar.csv\n",
      "1 ./Europe/se/municipality_of_helsingborg.csv\n",
      "2 ./Europe/se/municipality_of_hoganas.csv\n",
      "3 ./Europe/se/municipality_of_vasteras.csv\n",
      "4 ./Europe/se/municipality_of_savsjö.csv\n",
      "5 ./Europe/se/municipality_of_kristinehamn.csv\n",
      "6 ./Europe/se/municipality_of_malmo.csv\n",
      "7 ./Europe/se/municipality_of_vaxholm.csv\n",
      "8 ./Europe/se/municipality_of_gislaved.csv\n",
      "9 ./Europe/se/municipality_of_Österåker.csv\n",
      "10 ./Europe/se/municipality_of_alingsas.csv\n",
      "11 ./Europe/se/municipality_of_vaxjo.csv\n",
      "12 ./Europe/se/municipality_of_stockholm.csv\n",
      "13 ./Europe/pl/wielkopolskie.csv\n",
      "14 ./Europe/pl/opolskie.csv\n",
      "15 ./Europe/pl/dolnoslaskie.csv\n",
      "16 ./Europe/pl/podkarpackie.csv\n"
     ]
    },
    {
     "name": "stderr",
     "output_type": "stream",
     "text": [
      "/miniconda3/envs/addresses/lib/python3.6/site-packages/IPython/core/interactiveshell.py:3058: DtypeWarning: Columns (3) have mixed types. Specify dtype option on import or set low_memory=False.\n",
      "  interactivity=interactivity, compiler=compiler, result=result)\n"
     ]
    },
    {
     "name": "stdout",
     "output_type": "stream",
     "text": [
      "17 ./Europe/pl/pomorskie.csv\n",
      "18 ./Europe/pl/slaskie.csv\n",
      "19 ./Europe/pl/lubelskie.csv\n",
      "20 ./Europe/pl/kujawsko-pomorskie.csv\n",
      "21 ./Europe/pl/mazowieckie.csv\n",
      "22 ./Europe/pl/podlaskie.csv\n",
      "23 ./Europe/pl/swietokrzyskie.csv\n",
      "24 ./Europe/pl/malopolski.csv\n",
      "25 ./Europe/pl/zachodniopomorskie.csv\n",
      "26 ./Europe/pl/warminsko-mazurskie.csv\n",
      "27 ./Europe/pl/lodzkie.csv\n",
      "28 ./Europe/be/flanders.csv\n",
      "29 ./Europe/be/vlg/bosa-region-flanders-nl.csv\n"
     ]
    },
    {
     "name": "stderr",
     "output_type": "stream",
     "text": [
      "/miniconda3/envs/addresses/lib/python3.6/site-packages/IPython/core/interactiveshell.py:3058: DtypeWarning: Columns (4) have mixed types. Specify dtype option on import or set low_memory=False.\n",
      "  interactivity=interactivity, compiler=compiler, result=result)\n"
     ]
    },
    {
     "name": "stdout",
     "output_type": "stream",
     "text": [
      "30 ./Europe/be/wal/namur.csv\n",
      "31 ./Europe/be/wal/bosa-region-wallonia-fr.csv\n",
      "32 ./Europe/gr/b/municipality_of_kalamaria.csv\n",
      "33 ./Europe/ee/countrywide.csv\n",
      "34 ./Europe/lv/city_of_riga.csv\n",
      "35 ./Europe/it/04/acerra.csv\n",
      "36 ./Europe/it/32/south-tyrol-lld.csv\n",
      "37 ./Europe/it/32/south-tyrol-de.csv\n",
      "38 ./Europe/it/34/city_of_verona.csv\n",
      "39 ./Europe/it/42/statewide.csv\n",
      "40 ./Europe/it/45/mo.csv\n",
      "41 ./Europe/it/45/bologna.csv\n",
      "42 ./Europe/it/45/pc.csv\n",
      "43 ./Europe/it/45/ferrara.csv\n",
      "44 ./Europe/it/45/ra.csv\n",
      "45 ./Europe/it/45/bo.csv\n",
      "46 ./Europe/it/21/torino.csv\n",
      "47 ./Europe/it/21/city_of_biella.csv\n",
      "48 ./Europe/it/21/statewide.csv\n",
      "49 ./Europe/it/88/statewide.csv\n",
      "50 ./Europe/it/36/statewide.csv\n",
      "51 ./Europe/it/52/firenze.csv\n",
      "52 ./Europe/it/55/statewide.csv\n",
      "53 ./Europe/it/25/mn.csv\n",
      "54 ./Europe/it/25/mi.csv\n",
      "55 ./Europe/it/25/lo.csv\n",
      "56 ./Europe/it/25/bs.csv\n",
      "57 ./Europe/it/25/so.csv\n",
      "58 ./Europe/it/25/lc.csv\n",
      "59 ./Europe/it/25/co.csv\n",
      "60 ./Europe/cz/countrywide.csv\n",
      "61 ./Europe/ro/bucharest.csv\n",
      "62 ./Europe/ro/bucharest-metro.csv\n",
      "63 ./Europe/pt/countrywide.csv\n",
      "64 ./Europe/nl/countrywide.csv\n",
      "65 ./Europe/at/city_of_vienna.csv\n",
      "66 ./Europe/at/31255.csv\n",
      "67 ./Europe/at/31254.csv\n",
      "68 ./Europe/at/31256.csv\n",
      "69 ./Europe/de/he/city_of_frankfurtammain.csv\n",
      "70 ./Europe/de/ni/bentheim.csv\n",
      "71 ./Europe/de/sn/statewide.csv\n",
      "72 ./Europe/de/berlin.csv\n",
      "73 ./Europe/de/nw/city_of_wesel.csv\n",
      "74 ./Europe/de/nw/city_of_wuppertal.csv\n",
      "75 ./Europe/de/nw/statewide.csv\n"
     ]
    },
    {
     "name": "stderr",
     "output_type": "stream",
     "text": [
      "/miniconda3/envs/addresses/lib/python3.6/site-packages/IPython/core/interactiveshell.py:3058: DtypeWarning: Columns (5) have mixed types. Specify dtype option on import or set low_memory=False.\n",
      "  interactivity=interactivity, compiler=compiler, result=result)\n"
     ]
    },
    {
     "name": "stdout",
     "output_type": "stream",
     "text": [
      "76 ./Europe/dk/countrywide.csv\n",
      "77 ./Europe/fi/countrywide-sv.csv\n",
      "78 ./Europe/fi/countrywide-fi.csv\n",
      "79 ./Europe/fr/montpellier.csv\n",
      "80 ./Europe/fr/colmar.csv\n",
      "81 ./Europe/es/25829.csv\n",
      "82 ./Europe/es/25830.csv\n",
      "83 ./Europe/es/25831.csv\n"
     ]
    }
   ],
   "source": [
    "selected = []\n",
    "nselect = 2000\n",
    "\n",
    "for idx, f in enumerate(files):\n",
    "    f = f.strip()\n",
    "    print (idx, f)\n",
    "    arr = f.split('/')\n",
    "    df = pd.read_csv(f)\n",
    "    sel = df.sample(nselect)\n",
    "    sel['country'] = arr[2]\n",
    "    selected.append(sel)\n"
   ]
  },
  {
   "cell_type": "code",
   "execution_count": 46,
   "metadata": {},
   "outputs": [],
   "source": [
    "addresses = pd.concat(selected)"
   ]
  },
  {
   "cell_type": "code",
   "execution_count": 48,
   "metadata": {},
   "outputs": [],
   "source": [
    "addresses.to_csv('addresses.csv', index=False)"
   ]
  },
  {
   "cell_type": "code",
   "execution_count": null,
   "metadata": {},
   "outputs": [],
   "source": []
  }
 ],
 "metadata": {
  "kernelspec": {
   "display_name": "Python 3",
   "language": "python",
   "name": "python3"
  },
  "language_info": {
   "codemirror_mode": {
    "name": "ipython",
    "version": 3
   },
   "file_extension": ".py",
   "mimetype": "text/x-python",
   "name": "python",
   "nbconvert_exporter": "python",
   "pygments_lexer": "ipython3",
   "version": "3.7.4"
  }
 },
 "nbformat": 4,
 "nbformat_minor": 2
}
